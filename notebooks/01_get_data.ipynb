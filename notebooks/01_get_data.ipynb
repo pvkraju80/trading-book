{
 "cells": [
  {
   "cell_type": "markdown",
   "metadata": {},
   "source": [
    "# 01 Get Market Data"
   ]
  },
  {
   "cell_type": "code",
   "execution_count": 1,
   "metadata": {},
   "outputs": [
    {
     "name": "stdout",
     "output_type": "stream",
     "text": [
      "# conda environments:\r\n",
      "#\r\n",
      "base                     /home/ubuntu/anaconda3\r\n",
      "alert                    /home/ubuntu/anaconda3/envs/alert\r\n",
      "aws_neuron_mxnet_p36     /home/ubuntu/anaconda3/envs/aws_neuron_mxnet_p36\r\n",
      "aws_neuron_tensorflow_p36     /home/ubuntu/anaconda3/envs/aws_neuron_tensorflow_p36\r\n",
      "chainer_p27              /home/ubuntu/anaconda3/envs/chainer_p27\r\n",
      "chainer_p36              /home/ubuntu/anaconda3/envs/chainer_p36\r\n",
      "ml                    *  /home/ubuntu/anaconda3/envs/ml\r\n",
      "mxnet_p27                /home/ubuntu/anaconda3/envs/mxnet_p27\r\n",
      "mxnet_p36                /home/ubuntu/anaconda3/envs/mxnet_p36\r\n",
      "python2                  /home/ubuntu/anaconda3/envs/python2\r\n",
      "python3                  /home/ubuntu/anaconda3/envs/python3\r\n",
      "pytorch_p27              /home/ubuntu/anaconda3/envs/pytorch_p27\r\n",
      "pytorch_p36              /home/ubuntu/anaconda3/envs/pytorch_p36\r\n",
      "tensorflow2_p27          /home/ubuntu/anaconda3/envs/tensorflow2_p27\r\n",
      "tensorflow2_p36          /home/ubuntu/anaconda3/envs/tensorflow2_p36\r\n",
      "tensorflow_p27           /home/ubuntu/anaconda3/envs/tensorflow_p27\r\n",
      "tensorflow_p36           /home/ubuntu/anaconda3/envs/tensorflow_p36\r\n",
      "\r\n"
     ]
    }
   ],
   "source": [
    "!conda env list"
   ]
  },
  {
   "cell_type": "code",
   "execution_count": 8,
   "metadata": {},
   "outputs": [],
   "source": [
    "import sys\n",
    "from pathlib import Path\n",
    "# add project folder to sys path\n",
    "sys.path.append(str(Path.cwd().parent))"
   ]
  },
  {
   "cell_type": "code",
   "execution_count": 12,
   "metadata": {},
   "outputs": [],
   "source": [
    "# import libraries\n",
    "import datetime as dt\n",
    "import pandas as pd\n",
    "from util import get_data, plot_data"
   ]
  },
  {
   "cell_type": "code",
   "execution_count": 14,
   "metadata": {},
   "outputs": [],
   "source": [
    "# define date range\n",
    "start_date=dt.datetime(2008, 1, 1)\n",
    "end_date=dt.datetime(2009, 1, 1)\n",
    "dates = pd.date_range(start_date, end_date)"
   ]
  },
  {
   "cell_type": "code",
   "execution_count": 16,
   "metadata": {},
   "outputs": [],
   "source": [
    "df = get_data(symbols=['GOOG', 'AAPL', 'GLD'], dates=dates)"
   ]
  },
  {
   "cell_type": "code",
   "execution_count": 17,
   "metadata": {},
   "outputs": [
    {
     "data": {
      "text/html": [
       "<div>\n",
       "<style scoped>\n",
       "    .dataframe tbody tr th:only-of-type {\n",
       "        vertical-align: middle;\n",
       "    }\n",
       "\n",
       "    .dataframe tbody tr th {\n",
       "        vertical-align: top;\n",
       "    }\n",
       "\n",
       "    .dataframe thead th {\n",
       "        text-align: right;\n",
       "    }\n",
       "</style>\n",
       "<table border=\"1\" class=\"dataframe\">\n",
       "  <thead>\n",
       "    <tr style=\"text-align: right;\">\n",
       "      <th></th>\n",
       "      <th>SPY</th>\n",
       "      <th>GOOG</th>\n",
       "      <th>AAPL</th>\n",
       "      <th>GLD</th>\n",
       "    </tr>\n",
       "  </thead>\n",
       "  <tbody>\n",
       "    <tr>\n",
       "      <th>2008-01-02</th>\n",
       "      <td>132.15</td>\n",
       "      <td>685.19</td>\n",
       "      <td>194.01</td>\n",
       "      <td>84.86</td>\n",
       "    </tr>\n",
       "    <tr>\n",
       "      <th>2008-01-03</th>\n",
       "      <td>132.09</td>\n",
       "      <td>685.33</td>\n",
       "      <td>194.10</td>\n",
       "      <td>85.57</td>\n",
       "    </tr>\n",
       "    <tr>\n",
       "      <th>2008-01-04</th>\n",
       "      <td>128.85</td>\n",
       "      <td>657.00</td>\n",
       "      <td>179.28</td>\n",
       "      <td>85.13</td>\n",
       "    </tr>\n",
       "    <tr>\n",
       "      <th>2008-01-07</th>\n",
       "      <td>128.74</td>\n",
       "      <td>649.25</td>\n",
       "      <td>176.88</td>\n",
       "      <td>84.77</td>\n",
       "    </tr>\n",
       "    <tr>\n",
       "      <th>2008-01-08</th>\n",
       "      <td>126.66</td>\n",
       "      <td>631.68</td>\n",
       "      <td>170.52</td>\n",
       "      <td>86.78</td>\n",
       "    </tr>\n",
       "  </tbody>\n",
       "</table>\n",
       "</div>"
      ],
      "text/plain": [
       "               SPY    GOOG    AAPL    GLD\n",
       "2008-01-02  132.15  685.19  194.01  84.86\n",
       "2008-01-03  132.09  685.33  194.10  85.57\n",
       "2008-01-04  128.85  657.00  179.28  85.13\n",
       "2008-01-07  128.74  649.25  176.88  84.77\n",
       "2008-01-08  126.66  631.68  170.52  86.78"
      ]
     },
     "execution_count": 17,
     "metadata": {},
     "output_type": "execute_result"
    }
   ],
   "source": [
    "df.head()"
   ]
  },
  {
   "cell_type": "code",
   "execution_count": null,
   "metadata": {},
   "outputs": [],
   "source": []
  }
 ],
 "metadata": {
  "kernelspec": {
   "display_name": "Environment (conda_ml)",
   "language": "python",
   "name": "conda_ml"
  },
  "language_info": {
   "codemirror_mode": {
    "name": "ipython",
    "version": 3
   },
   "file_extension": ".py",
   "mimetype": "text/x-python",
   "name": "python",
   "nbconvert_exporter": "python",
   "pygments_lexer": "ipython3",
   "version": "3.6.9"
  }
 },
 "nbformat": 4,
 "nbformat_minor": 2
}
