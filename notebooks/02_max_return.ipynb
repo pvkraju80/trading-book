{
 "cells": [
  {
   "cell_type": "markdown",
   "metadata": {},
   "source": [
    "# 02 Max Return from Portfolio"
   ]
  },
  {
   "cell_type": "code",
   "execution_count": 1,
   "metadata": {},
   "outputs": [
    {
     "name": "stdout",
     "output_type": "stream",
     "text": [
      "# conda environments:\r\n",
      "#\r\n",
      "base                     /home/ubuntu/anaconda3\r\n",
      "alert                    /home/ubuntu/anaconda3/envs/alert\r\n",
      "aws_neuron_mxnet_p36     /home/ubuntu/anaconda3/envs/aws_neuron_mxnet_p36\r\n",
      "aws_neuron_tensorflow_p36     /home/ubuntu/anaconda3/envs/aws_neuron_tensorflow_p36\r\n",
      "chainer_p27              /home/ubuntu/anaconda3/envs/chainer_p27\r\n",
      "chainer_p36              /home/ubuntu/anaconda3/envs/chainer_p36\r\n",
      "ml                    *  /home/ubuntu/anaconda3/envs/ml\r\n",
      "mxnet_p27                /home/ubuntu/anaconda3/envs/mxnet_p27\r\n",
      "mxnet_p36                /home/ubuntu/anaconda3/envs/mxnet_p36\r\n",
      "python2                  /home/ubuntu/anaconda3/envs/python2\r\n",
      "python3                  /home/ubuntu/anaconda3/envs/python3\r\n",
      "pytorch_p27              /home/ubuntu/anaconda3/envs/pytorch_p27\r\n",
      "pytorch_p36              /home/ubuntu/anaconda3/envs/pytorch_p36\r\n",
      "tensorflow2_p27          /home/ubuntu/anaconda3/envs/tensorflow2_p27\r\n",
      "tensorflow2_p36          /home/ubuntu/anaconda3/envs/tensorflow2_p36\r\n",
      "tensorflow_p27           /home/ubuntu/anaconda3/envs/tensorflow_p27\r\n",
      "tensorflow_p36           /home/ubuntu/anaconda3/envs/tensorflow_p36\r\n",
      "\r\n"
     ]
    }
   ],
   "source": [
    "!conda env list"
   ]
  },
  {
   "cell_type": "code",
   "execution_count": 2,
   "metadata": {},
   "outputs": [],
   "source": [
    "import sys\n",
    "from pathlib import Path\n",
    "# add project folder to sys path\n",
    "sys.path.append(str(Path.cwd().parent))"
   ]
  },
  {
   "cell_type": "code",
   "execution_count": 4,
   "metadata": {},
   "outputs": [],
   "source": [
    "# import libraries\n",
    "import datetime as dt\n",
    "import numpy as np\n",
    "import pandas as pd\n",
    "import scipy.optimize as spo\n",
    "from util import get_data, plot_data"
   ]
  },
  {
   "cell_type": "code",
   "execution_count": 5,
   "metadata": {},
   "outputs": [],
   "source": [
    "def optimize_portfolio(sd=dt.datetime(2008, 1, 1),\n",
    "                       ed=dt.datetime(2009, 1, 1),\n",
    "                       syms=None,\n",
    "                       gen_plot=False):\n",
    "    \"\"\" Find allocation, and optimized portfolio stats \"\"\"\n",
    "    # Read in adjusted closing prices for given symbols, date range\n",
    "    if syms is None:\n",
    "        syms = ['GOOG', 'AAPL', 'GLD', 'XOM']\n",
    "    dates = pd.date_range(sd, ed)\n",
    "    # automatically adds SPY\n",
    "    prices_all = get_data(syms, dates)\n",
    "    # only portfolio symbols\n",
    "    prices = prices_all[syms]\n",
    "    # only SPY, for comparison later\n",
    "    prices_SPY = prices_all['SPY']\n",
    "\n",
    "    # find the allocations for the optimal portfolio\n",
    "    num_of_stocks = len(syms)\n",
    "    allocs = find_optimal_allocations(prices, num_of_stocks)\n",
    "\n",
    "    # Get Cumulative Return, Average Daily Return, Volatility (stdev of daily returns)\n",
    "    # Sharpe Ratio and End value\n",
    "    cr, adr, sddr, sr, ev = assess_portfolio(sd=sd, ed=ed,\n",
    "                                             syms=syms,\n",
    "                                             allocs=allocs,\n",
    "                                             gen_plot=False)\n",
    "\n",
    "    # Get daily portfolio value\n",
    "    port_val = get_portfolio_value(normalize_df(prices),\n",
    "                                   allocs,\n",
    "                                   start_val=1000000)\n",
    "\n",
    "    # Compare daily portfolio value with SPY using a normalized plot\n",
    "    if gen_plot:\n",
    "        df_temp = pd.concat([port_val, prices_SPY], keys=['Portfolio', 'SPY'], axis=1)\n",
    "        plot_normalized_data(df_temp, title=\"Daily Portolio Value and SPY\")\n",
    "\n",
    "    return allocs, cr, adr, sddr, sr"
   ]
  },
  {
   "cell_type": "code",
   "execution_count": 6,
   "metadata": {},
   "outputs": [],
   "source": [
    "def find_optimal_allocations(prices, num_of_stocks):\n",
    "    \"\"\" Use Scipy to find optimized portfolio allocation \"\"\"\n",
    "\n",
    "    # bounds for all stock allocation would be 0 - 1\n",
    "    bounds = [(0, 1)] * num_of_stocks\n",
    "    # allocation must sum to 1\n",
    "    constraints = ({'type': 'eq', 'fun': lambda inputs: 1.0 - np.sum(inputs)})\n",
    "    # intial guess balanced alloc\n",
    "    x0 = np.ones(num_of_stocks) * (1. / num_of_stocks)\n",
    "    # Use negative Sharpe ratio to optimize (minimize)\n",
    "    result = spo.minimize(negative_sharpe, x0, prices, method='SLSQP',\n",
    "                          bounds=bounds, constraints=constraints)\n",
    "    return result.x"
   ]
  },
  {
   "cell_type": "code",
   "execution_count": 7,
   "metadata": {},
   "outputs": [],
   "source": [
    "def negative_sharpe(X, prices, samples_per_year=252., risk_free_rate=0., sv=1000000):\n",
    "    \"\"\" Return portfolio's negative sharpe ratio \"\"\"\n",
    "    # Get daily portfolio value\n",
    "    port_val = get_portfolio_value(normalize_df(prices), X, sv)\n",
    "    # Get portfolio statistics (note: std_daily_ret = volatility)\n",
    "    daily_rets = compute_daily_returns(port_val)[1:]\n",
    "    # Get portfolio stats\n",
    "    cr, adr, sddr, sr = get_portfolio_stats(port_val, daily_rets,\n",
    "                                            samples_per_year, risk_free_rate)\n",
    "    return -sr"
   ]
  },
  {
   "cell_type": "code",
   "execution_count": 8,
   "metadata": {},
   "outputs": [],
   "source": [
    "def compute_daily_returns(df):\n",
    "    \"\"\"Compute and return the daily return values.\"\"\"\n",
    "    return ((df / df.shift(1)) - 1).fillna(0)"
   ]
  },
  {
   "cell_type": "code",
   "execution_count": 9,
   "metadata": {},
   "outputs": [],
   "source": [
    "def get_portfolio_value(prices, allocs, start_val):\n",
    "    \"\"\" Compute daily portfolio value given stock prices, allocations and starting value.\n",
    "\n",
    "        Return: pandas Series or DataFrame (with a single column)\n",
    "    \"\"\"\n",
    "    return (prices * allocs).sum(1) * start_val"
   ]
  },
  {
   "cell_type": "code",
   "execution_count": 10,
   "metadata": {},
   "outputs": [],
   "source": [
    "def get_portfolio_stats(port_val, daily_rf, samples_per_year, risk_free_rate):\n",
    "    \"\"\" Calculate statistics on daily portfolio value, given daily risk-free rate and data sampling frequency.\n",
    "\n",
    "        Return: a tuple consisting of the following statistics (in order): cumulative return, average daily return, standard deviation of daily return, Sharpe ratio\n",
    "        Note: The return statement provided ensures this order.\n",
    "    \"\"\"\n",
    "\n",
    "    # Get portfolio statistics (note: std_daily_ret = volatility)\n",
    "    daily_rf = compute_daily_returns(port_val)[1:]\n",
    "    cr = get_cumulative_return(port_val)\n",
    "    adr = daily_rf.mean()\n",
    "    sddr = daily_rf.std()\n",
    "\n",
    "    # Sharpe ratio = K * (Return of Portfolio - Risk-free Rate) / SD of portfolio's excess return\n",
    "    # Daily sampling K = sqrt(252.)\n",
    "    sr = np.sqrt(samples_per_year) * (adr - risk_free_rate) / sddr\n",
    "\n",
    "    return cr, adr, sddr, sr"
   ]
  },
  {
   "cell_type": "code",
   "execution_count": 17,
   "metadata": {},
   "outputs": [],
   "source": [
    "def normalize_df(port_val):\n",
    "    \"\"\" Return normalized dataframe starting with 1.0 \"\"\"\n",
    "    return port_val / port_val.iloc[0]"
   ]
  },
  {
   "cell_type": "code",
   "execution_count": 12,
   "metadata": {},
   "outputs": [],
   "source": [
    "def get_cumulative_return(df):\n",
    "    \"\"\" Get Cumulative return of Portfolio\"\"\"\n",
    "    return df[-1] / df[0] - 1."
   ]
  },
  {
   "cell_type": "code",
   "execution_count": 13,
   "metadata": {},
   "outputs": [],
   "source": [
    "def plot_normalized_data(df, title=\"Portfolio vs SPY\", xlabel=\"Date\", ylabel=\"Normalized Return\"):\n",
    "    \"\"\" Plot normalized return \"\"\"\n",
    "    plot_data(normalize_df(df), title, xlabel, ylabel)"
   ]
  },
  {
   "cell_type": "code",
   "execution_count": 14,
   "metadata": {},
   "outputs": [],
   "source": [
    "def assess_portfolio(sd=dt.datetime(2008, 1, 1), ed=dt.datetime(2009, 1, 1),\n",
    "                     syms=None,\n",
    "                     allocs=None,\n",
    "                     sv=1000000,\n",
    "                     rfr=0.0,\n",
    "                     sf=252.0,\n",
    "                     gen_plot=False):\n",
    "    # Read in adjusted closing prices for given symbols, date range\n",
    "    if syms is None:\n",
    "        syms = ['GOOG', 'AAPL', 'GLD', 'XOM']\n",
    "    if allocs is None:\n",
    "        allocs = [0.1, 0.2, 0.3, 0.4]\n",
    "    # get date range\n",
    "    dates = pd.date_range(sd, ed)\n",
    "    # print dates\n",
    "    prices_all = get_data(syms, dates)  # automatically adds SPY\n",
    "    # print prices_all.head()\n",
    "    prices = prices_all[syms]  # only portfolio symbols\n",
    "    # print prices.head()\n",
    "    prices_SPY = prices_all['SPY']  # only SPY, for comparison later\n",
    "\n",
    "    # Get daily portfolio value\n",
    "    port_val = get_portfolio_value(normalize_df(prices), allocs, sv)\n",
    "\n",
    "    # Get portfolio statistics (note: std_daily_ret = volatility)\n",
    "    daily_rets = compute_daily_returns(port_val)[1:]\n",
    "\n",
    "    cr, adr, sddr, sr = get_portfolio_stats(port_val, daily_rf=daily_rets,\n",
    "                                            samples_per_year=sf, risk_free_rate=rfr)\n",
    "\n",
    "    # Compare daily portfolio value with SPY using a normalized plot\n",
    "    if gen_plot:\n",
    "        # add code to plot here\n",
    "        df_temp = pd.concat([port_val, prices_SPY], keys=['Portfolio', 'SPY'], axis=1)\n",
    "        plot_normalized_data(df_temp)\n",
    "\n",
    "    # Add code here to properly compute end value\n",
    "    ev = port_val[-1]\n",
    "\n",
    "    return cr, adr, sddr, sr, ev"
   ]
  },
  {
   "cell_type": "code",
   "execution_count": 21,
   "metadata": {},
   "outputs": [
    {
     "name": "stdout",
     "output_type": "stream",
     "text": [
      "Collecting tabulate\n",
      "  Downloading tabulate-0.8.6.tar.gz (45 kB)\n",
      "\u001b[K     |████████████████████████████████| 45 kB 4.9 MB/s  eta 0:00:01\n",
      "\u001b[?25hBuilding wheels for collected packages: tabulate\n",
      "  Building wheel for tabulate (setup.py) ... \u001b[?25ldone\n",
      "\u001b[?25h  Created wheel for tabulate: filename=tabulate-0.8.6-py3-none-any.whl size=23272 sha256=4dba958f7208b4460c6044bd8d54325a5c380d91af5041be74da3ef82b64da6e\n",
      "  Stored in directory: /home/ubuntu/.cache/pip/wheels/f1/f8/e3/a65c54a883edf04f7d6b0eda5486e6f27279354b84fd932da2\n",
      "Successfully built tabulate\n",
      "Installing collected packages: tabulate\n",
      "Successfully installed tabulate-0.8.6\n"
     ]
    }
   ],
   "source": [
    "!pip install tabulate"
   ]
  },
  {
   "cell_type": "code",
   "execution_count": 22,
   "metadata": {},
   "outputs": [],
   "source": [
    "from tabulate import tabulate"
   ]
  },
  {
   "cell_type": "code",
   "execution_count": 25,
   "metadata": {},
   "outputs": [],
   "source": [
    "def test_code():\n",
    "    # This function WILL NOT be called by the auto grader\n",
    "    # Do not assume that any variables defined here are available to your function/code\n",
    "    # It is only here to help you set up and test your code\n",
    "\n",
    "    # Define input parameters\n",
    "    # Note that ALL of these values will be set to different values by\n",
    "    # the autograder!\n",
    "\n",
    "    start_date = dt.datetime(2008, 6, 1)\n",
    "    end_date = dt.datetime(2009, 6, 1)\n",
    "    symbols = ['IBM', 'X', 'GLD', 'JPM']\n",
    "\n",
    "    # Assess the portfolio\n",
    "    allocations, cr, adr, sddr, sr = optimize_portfolio(sd=start_date,\n",
    "                                                        ed=end_date,\n",
    "                                                        syms=symbols,\n",
    "                                                        gen_plot=True)\n",
    "\n",
    "    output = tabulate([['Start Date', start_date],\n",
    "                       ['End Date', end_date],\n",
    "                       ['Symbols', symbols],\n",
    "                       ['Allocations', allocations],\n",
    "                       ['Sharpe Ratio', sr],\n",
    "                       ['Volatility', sddr],\n",
    "                       ['Average Daily Return', adr],\n",
    "                       ['Cumulative Return', cr]],\n",
    "                      headers=['Name', 'Value'])\n",
    "\n",
    "    print(output)"
   ]
  },
  {
   "cell_type": "code",
   "execution_count": 26,
   "metadata": {},
   "outputs": [
    {
     "data": {
      "image/png": "[encoded data removed]",
      "text/plain": [
       "<Figure size 432x288 with 1 Axes>"
      ]
     },
     "metadata": {
      "needs_background": "light"
     },
     "output_type": "display_data"
    },
    {
     "name": "stdout",
     "output_type": "stream",
     "text": [
      "Name                  Value\n",
      "--------------------  -------------------------------------------------------------\n",
      "Start Date            2008-06-01 00:00:00\n",
      "End Date              2009-06-01 00:00:00\n",
      "Symbols               ['IBM', 'X', 'GLD', 'JPM']\n",
      "Allocations           [5.55111512e-17 1.66533454e-16 0.00000000e+00 1.00000000e+00]\n",
      "Sharpe Ratio          0.42310717924180125\n",
      "Volatility            0.06891106884929615\n",
      "Average Daily Return  0.0018367037394021754\n",
      "Cumulative Return     -0.11480908152734781\n"
     ]
    }
   ],
   "source": [
    "test_code()"
   ]
  },
  {
   "cell_type": "code",
   "execution_count": null,
   "metadata": {},
   "outputs": [],
   "source": []
  }
 ],
 "metadata": {
  "kernelspec": {
   "display_name": "Environment (conda_ml)",
   "language": "python",
   "name": "conda_ml"
  },
  "language_info": {
   "codemirror_mode": {
    "name": "ipython",
    "version": 3
   },
   "file_extension": ".py",
   "mimetype": "text/x-python",
   "name": "python",
   "nbconvert_exporter": "python",
   "pygments_lexer": "ipython3",
   "version": "3.6.9"
  }
 },
 "nbformat": 4,
 "nbformat_minor": 2
}
