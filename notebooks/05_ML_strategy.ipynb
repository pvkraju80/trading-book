{
 "cells": [
  {
   "cell_type": "markdown",
   "metadata": {},
   "source": [
    "# 05 Machine Learning Strategy"
   ]
  },
  {
   "cell_type": "markdown",
   "metadata": {},
   "source": [
    "#### Purpose\n",
    "Compare machine learning strategy with manual strategy"
   ]
  },
  {
   "cell_type": "code",
   "execution_count": 1,
   "metadata": {},
   "outputs": [
    {
     "name": "stdout",
     "output_type": "stream",
     "text": [
      "# conda environments:\r\n",
      "#\r\n",
      "base                     /home/ubuntu/anaconda3\r\n",
      "alert                    /home/ubuntu/anaconda3/envs/alert\r\n",
      "aws_neuron_mxnet_p36     /home/ubuntu/anaconda3/envs/aws_neuron_mxnet_p36\r\n",
      "aws_neuron_tensorflow_p36     /home/ubuntu/anaconda3/envs/aws_neuron_tensorflow_p36\r\n",
      "chainer_p27              /home/ubuntu/anaconda3/envs/chainer_p27\r\n",
      "chainer_p36              /home/ubuntu/anaconda3/envs/chainer_p36\r\n",
      "ml                    *  /home/ubuntu/anaconda3/envs/ml\r\n",
      "mxnet_p27                /home/ubuntu/anaconda3/envs/mxnet_p27\r\n",
      "mxnet_p36                /home/ubuntu/anaconda3/envs/mxnet_p36\r\n",
      "python2                  /home/ubuntu/anaconda3/envs/python2\r\n",
      "python3                  /home/ubuntu/anaconda3/envs/python3\r\n",
      "pytorch_p27              /home/ubuntu/anaconda3/envs/pytorch_p27\r\n",
      "pytorch_p36              /home/ubuntu/anaconda3/envs/pytorch_p36\r\n",
      "tensorflow2_p27          /home/ubuntu/anaconda3/envs/tensorflow2_p27\r\n",
      "tensorflow2_p36          /home/ubuntu/anaconda3/envs/tensorflow2_p36\r\n",
      "tensorflow_p27           /home/ubuntu/anaconda3/envs/tensorflow_p27\r\n",
      "tensorflow_p36           /home/ubuntu/anaconda3/envs/tensorflow_p36\r\n",
      "\r\n"
     ]
    }
   ],
   "source": [
    "!conda env list"
   ]
  },
  {
   "cell_type": "code",
   "execution_count": 2,
   "metadata": {},
   "outputs": [],
   "source": [
    "import sys\n",
    "from pathlib import Path\n",
    "# add project folder to sys path\n",
    "sys.path.append(str(Path.cwd().parent))"
   ]
  },
  {
   "cell_type": "code",
   "execution_count": 3,
   "metadata": {},
   "outputs": [],
   "source": [
    "# import libraries\n",
    "import datetime as dt\n",
    "import numpy as np\n",
    "import pandas as pd\n",
    "import matplotlib.pyplot as plt\n",
    "import random\n",
    "\n",
    "# import helper functions\n",
    "import util as ut\n",
    "import ManualStrategy as ms\n",
    "import StrategyLearner as sl\n",
    "import indicators as ind\n",
    "import marketsimcode as sim"
   ]
  },
  {
   "cell_type": "code",
   "execution_count": 4,
   "metadata": {},
   "outputs": [],
   "source": [
    "pd.options.mode.chained_assignment = None"
   ]
  },
  {
   "cell_type": "code",
   "execution_count": 5,
   "metadata": {},
   "outputs": [],
   "source": [
    "CURRENT_DIR = Path.cwd()\n",
    "PROJECT_DIR = Path.cwd().parent\n",
    "ORDER_DIR = PROJECT_DIR / \"orders\""
   ]
  },
  {
   "cell_type": "code",
   "execution_count": 6,
   "metadata": {},
   "outputs": [
    {
     "data": {
      "text/html": [
       "<div>\n",
       "<style scoped>\n",
       "    .dataframe tbody tr th:only-of-type {\n",
       "        vertical-align: middle;\n",
       "    }\n",
       "\n",
       "    .dataframe tbody tr th {\n",
       "        vertical-align: top;\n",
       "    }\n",
       "\n",
       "    .dataframe thead th {\n",
       "        text-align: right;\n",
       "    }\n",
       "</style>\n",
       "<table border=\"1\" class=\"dataframe\">\n",
       "  <thead>\n",
       "    <tr style=\"text-align: right;\">\n",
       "      <th></th>\n",
       "      <th>Symbol</th>\n",
       "      <th>Order</th>\n",
       "      <th>Shares</th>\n",
       "    </tr>\n",
       "    <tr>\n",
       "      <th>Date</th>\n",
       "      <th></th>\n",
       "      <th></th>\n",
       "      <th></th>\n",
       "    </tr>\n",
       "  </thead>\n",
       "  <tbody>\n",
       "    <tr>\n",
       "      <th>2011-01-10</th>\n",
       "      <td>AAPL</td>\n",
       "      <td>BUY</td>\n",
       "      <td>1500</td>\n",
       "    </tr>\n",
       "    <tr>\n",
       "      <th>2011-01-13</th>\n",
       "      <td>AAPL</td>\n",
       "      <td>SELL</td>\n",
       "      <td>1500</td>\n",
       "    </tr>\n",
       "    <tr>\n",
       "      <th>2011-01-13</th>\n",
       "      <td>IBM</td>\n",
       "      <td>BUY</td>\n",
       "      <td>4000</td>\n",
       "    </tr>\n",
       "    <tr>\n",
       "      <th>2011-01-26</th>\n",
       "      <td>GOOG</td>\n",
       "      <td>BUY</td>\n",
       "      <td>1000</td>\n",
       "    </tr>\n",
       "    <tr>\n",
       "      <th>2011-02-02</th>\n",
       "      <td>XOM</td>\n",
       "      <td>SELL</td>\n",
       "      <td>4000</td>\n",
       "    </tr>\n",
       "    <tr>\n",
       "      <th>2011-02-10</th>\n",
       "      <td>XOM</td>\n",
       "      <td>BUY</td>\n",
       "      <td>4000</td>\n",
       "    </tr>\n",
       "    <tr>\n",
       "      <th>2011-03-03</th>\n",
       "      <td>GOOG</td>\n",
       "      <td>SELL</td>\n",
       "      <td>1000</td>\n",
       "    </tr>\n",
       "    <tr>\n",
       "      <th>2011-03-03</th>\n",
       "      <td>IBM</td>\n",
       "      <td>SELL</td>\n",
       "      <td>2200</td>\n",
       "    </tr>\n",
       "    <tr>\n",
       "      <th>2011-06-03</th>\n",
       "      <td>IBM</td>\n",
       "      <td>SELL</td>\n",
       "      <td>3300</td>\n",
       "    </tr>\n",
       "    <tr>\n",
       "      <th>2011-05-03</th>\n",
       "      <td>IBM</td>\n",
       "      <td>BUY</td>\n",
       "      <td>1500</td>\n",
       "    </tr>\n",
       "    <tr>\n",
       "      <th>2011-06-10</th>\n",
       "      <td>AAPL</td>\n",
       "      <td>BUY</td>\n",
       "      <td>1200</td>\n",
       "    </tr>\n",
       "    <tr>\n",
       "      <th>2011-08-01</th>\n",
       "      <td>GOOG</td>\n",
       "      <td>BUY</td>\n",
       "      <td>55</td>\n",
       "    </tr>\n",
       "    <tr>\n",
       "      <th>2011-08-01</th>\n",
       "      <td>GOOG</td>\n",
       "      <td>SELL</td>\n",
       "      <td>55</td>\n",
       "    </tr>\n",
       "    <tr>\n",
       "      <th>2011-12-20</th>\n",
       "      <td>AAPL</td>\n",
       "      <td>SELL</td>\n",
       "      <td>1200</td>\n",
       "    </tr>\n",
       "  </tbody>\n",
       "</table>\n",
       "</div>"
      ],
      "text/plain": [
       "           Symbol Order  Shares\n",
       "Date                           \n",
       "2011-01-10   AAPL   BUY    1500\n",
       "2011-01-13   AAPL  SELL    1500\n",
       "2011-01-13    IBM   BUY    4000\n",
       "2011-01-26   GOOG   BUY    1000\n",
       "2011-02-02    XOM  SELL    4000\n",
       "2011-02-10    XOM   BUY    4000\n",
       "2011-03-03   GOOG  SELL    1000\n",
       "2011-03-03    IBM  SELL    2200\n",
       "2011-06-03    IBM  SELL    3300\n",
       "2011-05-03    IBM   BUY    1500\n",
       "2011-06-10   AAPL   BUY    1200\n",
       "2011-08-01   GOOG   BUY      55\n",
       "2011-08-01   GOOG  SELL      55\n",
       "2011-12-20   AAPL  SELL    1200"
      ]
     },
     "execution_count": 6,
     "metadata": {},
     "output_type": "execute_result"
    }
   ],
   "source": [
    "# example orders file\n",
    "orders_file = str(ORDER_DIR/\"orders.csv\")\n",
    "df_orders = pd.read_csv(orders_file, index_col='Date', parse_dates=True, na_values=['nan'])\n",
    "df_orders"
   ]
  },
  {
   "cell_type": "code",
   "execution_count": 7,
   "metadata": {},
   "outputs": [],
   "source": [
    "SYMBOL = \"JPM\"\n",
    "IN_SAMPLE_DATES = (dt.datetime(2008, 1, 1), dt.datetime(2009, 12, 31))\n",
    "OUT_SAMPLE_DATES = (dt.datetime(2010, 1, 1), dt.datetime(2011, 12, 31))\n",
    "START_VAL = 100000\n",
    "POSITIONS = [-1000, 0, 1000]\n",
    "ACTIONS = [-1, 0, 1]  # [SHORT, CASH, LONG]\n",
    "\n",
    "IMPACT = 0.005\n",
    "TRANSACTION_COMMISSION = 0.0\n",
    "\n",
    "# fix random seed\n",
    "SEED = 42\n",
    "np.random.seed(SEED)\n",
    "random.seed(SEED)"
   ]
  },
  {
   "cell_type": "code",
   "execution_count": 8,
   "metadata": {},
   "outputs": [],
   "source": [
    "def plot_compare(benchmark_portvals,\n",
    "                 manual_strategy_portvals,\n",
    "                 strategy_learner_portval):\n",
    "    \"\"\"Plot portfolio values of Benchmark and Manual Strategy\"\"\"\n",
    "    final_df = pd.concat([benchmark_portvals, manual_strategy_portvals, strategy_learner_portval], axis=1)\n",
    "    final_df.columns = ['Normalized Benchmark Portfolio Value',\n",
    "                        'Normalized Manual Strategy Portfolio Value',\n",
    "                        'Normalized Strategy Learner Portfolio Value']\n",
    "    # print(final_df)\n",
    "    # Plot final dataframe\n",
    "    title = \"Strategy Learner vs Manual Strategy\"\n",
    "    xlabel = \"Date\"\n",
    "    ylabel = \"Portfolio Value\"\n",
    "    \"\"\"Plot stock prices with a custom title and meaningful axis labels.\"\"\"\n",
    "    ax = final_df.plot(title=title, fontsize=12, color=['g', 'r', 'b'], figsize=(10, 6))\n",
    "    ax.set_xlabel(xlabel)\n",
    "    ax.set_ylabel(ylabel)\n",
    "    plt.axhline(y=1., color='m', linestyle=':')\n",
    "    plt.show()\n",
    "    return None"
   ]
  },
  {
   "cell_type": "code",
   "execution_count": 9,
   "metadata": {},
   "outputs": [],
   "source": [
    "def print_performance(title, cr, adr, sddr, sr, final_portval):\n",
    "    print(title)\n",
    "    print(\"final strategy_portvals\", final_portval[-1])\n",
    "    print(\"cum_ret\", cr)\n",
    "    print(\"avg_daily_ret\", adr)\n",
    "    print(\"std_daily_ret\", sddr)\n",
    "    print(\"sharpe_ratio\", sr)"
   ]
  },
  {
   "cell_type": "code",
   "execution_count": 10,
   "metadata": {},
   "outputs": [],
   "source": [
    "def get_prices(symbol, sd, ed):\n",
    "    \"\"\" Get price data based on symbol and start_date, end_date \"\"\"\n",
    "\n",
    "    # get symbol list and date range\n",
    "    syms = [symbol]\n",
    "    dates = pd.date_range(sd, ed)\n",
    "\n",
    "    # Get prices data, automatically adds SPY\n",
    "    prices_all = ut.get_data(syms, dates)\n",
    "\n",
    "    # normalize price, price[t] /= price[0]\n",
    "    prices_all = ind.normalize(prices_all)\n",
    "\n",
    "    prices = prices_all[syms]  # only portfolio symbols\n",
    "    prices_SPY = prices_all['SPY']  # only SPY, for comparison later\n",
    "    # if self.verbose: print prices\n",
    "\n",
    "    return prices"
   ]
  },
  {
   "cell_type": "code",
   "execution_count": 11,
   "metadata": {},
   "outputs": [],
   "source": [
    "def test_code():\n",
    "    # Test in sample performance\n",
    "    prices = get_prices(symbol=SYMBOL, sd=IN_SAMPLE_DATES[0], ed=IN_SAMPLE_DATES[1])\n",
    "    # Strategy Learner\n",
    "    st_learner = sl.StrategyLearner(verbose=False, impact=IMPACT)\n",
    "    st_learner.addEvidence(symbol=SYMBOL,\n",
    "                           sd=IN_SAMPLE_DATES[0],\n",
    "                           ed=IN_SAMPLE_DATES[1],\n",
    "                           sv=START_VAL)\n",
    "    # Test in sample performance\n",
    "    st_trades = st_learner.testPolicy(symbol=SYMBOL,\n",
    "                                      sd=IN_SAMPLE_DATES[0],\n",
    "                                      ed=IN_SAMPLE_DATES[1],\n",
    "                                      sv=START_VAL)\n",
    "    st_orders = st_learner.convert_trades_to_order(st_trades)\n",
    "    st_portval = sim.compute_portvals(st_orders,\n",
    "                                      start_val=START_VAL,\n",
    "                                      commission=TRANSACTION_COMMISSION,\n",
    "                                      impact=IMPACT,\n",
    "                                      start_date=IN_SAMPLE_DATES[0],\n",
    "                                      end_date=IN_SAMPLE_DATES[1])\n",
    "    st_portval = st_learner.normalize_df(st_portval)\n",
    "    st_cr, st_adr, st_sddr, st_sr = sim.get_portfolio_stats(st_portval)\n",
    "\n",
    "    print_performance(\"Strategy Learner\", st_cr, st_adr, st_sddr, st_sr, st_portval)\n",
    "\n",
    "    # Benchmark\n",
    "    ben_portvals, ben_cr, ben_adr, ben_sddr, ben_sr = ms.benchmark(SYMBOL, IN_SAMPLE_DATES[0], IN_SAMPLE_DATES[1],\n",
    "                                                                   START_VAL)\n",
    "    print_performance(\"Benchmark\", ben_cr, ben_adr, ben_sddr, ben_sr, ben_portvals)\n",
    "\n",
    "    # Manual strategy\n",
    "    ms_trades = ms.testPolicy(SYMBOL, IN_SAMPLE_DATES[0], IN_SAMPLE_DATES[1], START_VAL)\n",
    "    ms_orders = ms.convert_trades_to_order(ms_trades)\n",
    "    ms_portvals = ms.compute_portvals(df_orders=ms_orders,\n",
    "                                      start_val=START_VAL,\n",
    "                                      commission=TRANSACTION_COMMISSION,\n",
    "                                      impact=IMPACT,\n",
    "                                      start_date=IN_SAMPLE_DATES[0],\n",
    "                                      end_date=IN_SAMPLE_DATES[1])\n",
    "    ms_portvals = ms.normalize(ms_portvals)\n",
    "    ms_cr, ms_adr, ms_sddr, ms_sr = ms.get_portfolio_stats(ms_portvals)\n",
    "    print_performance(\"Manual Strategy\", ms_cr, ms_adr, ms_sddr, ms_sr, ms_portvals)\n",
    "\n",
    "    plot_compare(ben_portvals,\n",
    "                 ms_portvals,\n",
    "                 st_portval)"
   ]
  },
  {
   "cell_type": "code",
   "execution_count": 12,
   "metadata": {},
   "outputs": [
    {
     "name": "stdout",
     "output_type": "stream",
     "text": [
      "Strategy Learner\n",
      "final strategy_portvals 1.665661499999999\n",
      "cum_ret 0.665661499999999\n",
      "avg_daily_ret 0.001036529846434984\n",
      "std_daily_ret 0.006936496835125607\n",
      "sharpe_ratio 2.3721485920175827\n",
      "Benchmark\n",
      "final strategy_portvals 1.0123249333401472\n",
      "cum_ret 0.01232493334014717\n",
      "avg_daily_ret 0.00016875916214640062\n",
      "std_daily_ret 0.017041247068174333\n",
      "sharpe_ratio 0.15720496488905208\n",
      "Manual Strategy\n",
      "final strategy_portvals 1.1502469999999998\n",
      "cum_ret 0.1502469999999998\n",
      "avg_daily_ret 0.00040456453323080044\n",
      "std_daily_ret 0.01596266460857435\n",
      "sharpe_ratio 0.402330251415796\n"
     ]
    },
    {
     "data": {
      "image/png": "[encoded data removed]",
      "text/plain": [
       "<Figure size 720x432 with 1 Axes>"
      ]
     },
     "metadata": {
      "needs_background": "light"
     },
     "output_type": "display_data"
    }
   ],
   "source": [
    "test_code()"
   ]
  },
  {
   "cell_type": "code",
   "execution_count": null,
   "metadata": {},
   "outputs": [],
   "source": []
  }
 ],
 "metadata": {
  "kernelspec": {
   "display_name": "Environment (conda_ml)",
   "language": "python",
   "name": "conda_ml"
  },
  "language_info": {
   "codemirror_mode": {
    "name": "ipython",
    "version": 3
   },
   "file_extension": ".py",
   "mimetype": "text/x-python",
   "name": "python",
   "nbconvert_exporter": "python",
   "pygments_lexer": "ipython3",
   "version": "3.6.9"
  }
 },
 "nbformat": 4,
 "nbformat_minor": 2
}
